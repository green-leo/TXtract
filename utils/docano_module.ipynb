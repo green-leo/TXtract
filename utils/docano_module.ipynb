{
 "cells": [
  {
   "cell_type": "code",
   "execution_count": 28,
   "id": "bbf4cecb-aae4-4ed1-b6d2-a2f9b7760cbc",
   "metadata": {},
   "outputs": [],
   "source": [
    "import json\n",
    "from bs4 import BeautifulSoup\n",
    "from bs4.element import Tag\n",
    "import text_unify\n",
    "import re"
   ]
  },
  {
   "cell_type": "code",
   "execution_count": 29,
   "id": "06f49e88",
   "metadata": {},
   "outputs": [],
   "source": [
    "def unify_text(text):\n",
    "    ntext = re.sub(r\"[\\.,\\?]+$-\", \"\", text)\n",
    "    ntext = ntext.replace(\",\", \" \").replace(\".\", \" \") \\\n",
    "        .replace(\";\", \" \").replace(\"“\", \" \") \\\n",
    "        .replace(\":\", \" \").replace(\"”\", \" \") \\\n",
    "        .replace('\"', \" \").replace(\"'\", \" \") \\\n",
    "        .replace(\"!\", \" \").replace(\"?\", \" \") \\\n",
    "        .replace(\"[\", \" \").replace(\"]\", \" \").replace(\",\", \" \")\n",
    "    \n",
    "    ntext = ' '.join(ntext.split())\n",
    "    ntext = ntext.lower()\n",
    "    ntext = text_unify.unify(ntext)\n",
    "    return ntext"
   ]
  },
  {
   "cell_type": "markdown",
   "id": "da30a7c0-0802-423f-9194-0fd5a99e8942",
   "metadata": {},
   "source": [
    "######\n",
    "***\n",
    "### Converter functions\n",
    "***"
   ]
  },
  {
   "cell_type": "markdown",
   "id": "a128cde4-ccfd-4b0b-8db7-cff77efce53d",
   "metadata": {},
   "source": [
    "#### Doccano To Html"
   ]
  },
  {
   "cell_type": "code",
   "execution_count": 30,
   "id": "9706302a",
   "metadata": {},
   "outputs": [],
   "source": [
    "def labels_sort_func(label):\n",
    "    return label[0]"
   ]
  },
  {
   "cell_type": "code",
   "execution_count": 31,
   "id": "3b586dc5-bb61-4615-8300-765a6e285c5b",
   "metadata": {},
   "outputs": [],
   "source": [
    "#### Doccano To Html\n",
    "\n",
    "def doccano2html(doccano_annot_str):\n",
    "    doccano_annot = json.loads(doccano_annot_str)\n",
    "    text_label = ''\n",
    "    text = doccano_annot['text']\n",
    "    labels = doccano_annot['labels']\n",
    "    labels.sort(reverse = True, key = labels_sort_func)\n",
    "    \n",
    "    #have been not annotated yet\n",
    "    if len(labels) == 0:\n",
    "        return text_label\n",
    "    \n",
    "    #convertation\n",
    "    text_label = text\n",
    "    for label_elem in labels:\n",
    "        sIndex, eIndex, label = label_elem\n",
    "        value = text_label[sIndex:eIndex].strip()\n",
    "        if value == '':\n",
    "            continue\n",
    "        text_prefix = text_label[:sIndex]\n",
    "        text_label = text_prefix + ' <' + label + '>' + value + '</'+ label + '> ' + text_label[eIndex:].strip()\n",
    "    \n",
    "    text_label = (' '.join(text_label.split()))\n",
    "    text_label = text_unify.unify(text_label)\n",
    "    return text_label"
   ]
  },
  {
   "cell_type": "markdown",
   "id": "a8edcfc3-82f3-42f7-a9bf-106b9f8778fb",
   "metadata": {},
   "source": [
    "#### Html to doccano"
   ]
  },
  {
   "cell_type": "code",
   "execution_count": 32,
   "id": "f9626b5f-ec20-4da6-95f5-8ed207d19cf4",
   "metadata": {},
   "outputs": [],
   "source": [
    "#### Html to doccano\n",
    "\n",
    "def html_to_doccano(html_annot):\n",
    "    soup = BeautifulSoup(html_annot,  \"html.parser\")\n",
    "    title_text = soup.text\n",
    "    \n",
    "    labels = []\n",
    "    pre_index = 0\n",
    "\n",
    "    for c in soup:\n",
    "        #print(\"//\" + c.string.strip())\n",
    "        #there is space -> skip\n",
    "        token = c.string.strip()\n",
    "        if isinstance(token, str) == False or token == None or token == '':\n",
    "            continue\n",
    "        if (type(c) == Tag):\n",
    "            start_offset = title_text.find(token, pre_index)\n",
    "            if (start_offset == -1):\n",
    "                print(\"#there's something wrong: \" + c.string)\n",
    "                print(\"#title: \" + title_text)\n",
    "                continue\n",
    "\n",
    "            end_offset = start_offset + len(token)\n",
    "            labels.append([start_offset, end_offset, c.name])\n",
    "            pre_index = end_offset\n",
    "\n",
    "    doccano_format = {\"text\": title_text, \"labels\":labels}\n",
    "    \n",
    "    return json.dumps(doccano_format, ensure_ascii=False) + '\\n'"
   ]
  },
  {
   "cell_type": "markdown",
   "id": "d31f4189-f83a-4d3a-83f6-225f12f521da",
   "metadata": {},
   "source": [
    "#### Html to Fully"
   ]
  },
  {
   "cell_type": "code",
   "execution_count": 33,
   "id": "0fc43894-b35d-4de6-9cac-7e26ceb9b7bf",
   "metadata": {
    "tags": []
   },
   "outputs": [],
   "source": [
    "#### Html to Fully\n",
    "\n",
    "# convert html to fully\n",
    "# {\"content\": text_string, \"annotation\": [{\"label\":[label], \"points\": [{\"start\":start_index,\"end\":end_index,\"text\":token}]}, ...]}\n",
    "\n",
    "def html2fully(html_annot):\n",
    "    soup = BeautifulSoup(html_annot,  \"html.parser\")\n",
    "    title_text = soup.text\n",
    "\n",
    "    annotation = []\n",
    "    pre_index = 0\n",
    "\n",
    "    for c in soup:\n",
    "        #there is space -> skip\n",
    "        token = c.string.strip()\n",
    "        if isinstance(token, str) == False or token == None or token == '':\n",
    "            continue\n",
    "        if (type(c) == Tag):\n",
    "            label = c.name.lower()\n",
    "        else:\n",
    "            label = 'None'\n",
    "\n",
    "        tokens = token.split()\n",
    "        for itr, word in enumerate(tokens):\n",
    "            if label == 'None':\n",
    "                BIOE = 'O'\n",
    "            elif itr == 0:\n",
    "                BIOE = 'B'\n",
    "            elif itr == len(tokens) -1:\n",
    "                BIOE = 'E'\n",
    "            else:\n",
    "                BIOE = 'I'\n",
    "               \n",
    "            start_index = title_text.find(word, pre_index)\n",
    "            if (start_index == -1):\n",
    "                print(\"#there's something wrong: \" + word)\n",
    "                print(\"#title: \" + title_text)\n",
    "                continue\n",
    "\n",
    "            end_index = start_index + len(word) - 1\n",
    "            annotation.append({\"label\":[label, BIOE], \"points\": [{\"start\":start_index,\"end\":end_index,\"text\":word}]})\n",
    "            pre_index = end_index\n",
    "\n",
    "    fully_format = {\"content\": title_text, \"annotation\":annotation}\n",
    "    return json.dumps(fully_format, ensure_ascii=False) + '\\n'"
   ]
  },
  {
   "cell_type": "markdown",
   "id": "8ef945e0-4849-4ed8-81ae-6e3228603ae9",
   "metadata": {},
   "source": [
    "#### Doccano to Fully"
   ]
  },
  {
   "cell_type": "code",
   "execution_count": 34,
   "id": "ba26fb9e-83ac-4419-ad07-9e8e575cc90d",
   "metadata": {},
   "outputs": [],
   "source": [
    "#### Doccano to Fully\n",
    "\n",
    "def doccano2fully(doccano_annot):\n",
    "    html_annot = doccano2html(doccano_annot)\n",
    "    html_annot = unify_text(html_annot)\n",
    "    fully_annot = html2fully(html_annot)\n",
    "    return fully_annot"
   ]
  },
  {
   "cell_type": "code",
   "execution_count": null,
   "id": "b9b87c39",
   "metadata": {},
   "outputs": [],
   "source": []
  },
  {
   "cell_type": "code",
   "execution_count": null,
   "id": "f4504c71",
   "metadata": {},
   "outputs": [],
   "source": []
  },
  {
   "cell_type": "markdown",
   "id": "11f9c4ab-a181-421c-9a12-53d80becc445",
   "metadata": {},
   "source": [
    "######\n",
    "***\n",
    "### Extracting\n",
    "*** "
   ]
  },
  {
   "cell_type": "code",
   "execution_count": null,
   "id": "131c50bd-d7d0-43ac-8f82-69e65b8633b4",
   "metadata": {},
   "outputs": [],
   "source": []
  },
  {
   "cell_type": "code",
   "execution_count": null,
   "id": "8df851a6-9c73-49c9-a378-e3557562b978",
   "metadata": {},
   "outputs": [],
   "source": []
  },
  {
   "cell_type": "markdown",
   "id": "8d0d1a62-7f8e-47c5-8548-582cc89ccb7a",
   "metadata": {},
   "source": [
    "######\n",
    "***\n",
    "### Statistic\n",
    "***"
   ]
  },
  {
   "cell_type": "code",
   "execution_count": null,
   "id": "97d09a1e-cf3d-4844-84a4-0d0607f08356",
   "metadata": {},
   "outputs": [],
   "source": []
  },
  {
   "cell_type": "code",
   "execution_count": null,
   "id": "07dc1180-018f-49e8-8ada-915c597d54f7",
   "metadata": {},
   "outputs": [],
   "source": []
  },
  {
   "cell_type": "code",
   "execution_count": null,
   "id": "c22f02f3-9597-432d-9acf-33c9380b1927",
   "metadata": {},
   "outputs": [],
   "source": []
  },
  {
   "cell_type": "markdown",
   "id": "450ab1a8-651c-4d13-8866-af44a18e068a",
   "metadata": {},
   "source": [
    "######\n",
    "***\n",
    "### Test\n",
    "***"
   ]
  },
  {
   "cell_type": "code",
   "execution_count": 35,
   "id": "fb504b6b-6094-49b9-b10a-255777f6eb5e",
   "metadata": {},
   "outputs": [],
   "source": [
    "text = '{\"id\": 2903, \"text\": \"[31][1428]dây đồng hồ 20mm, dây thép không gỉ 3 mắt dành cho gear active, gear sport, gear s2 classic, galaxy watch 42mm\", \"meta\": {}, \"annotation_approver\": null, \"comments\": [], \"labels\": [[10, 21, \"Type\"], [22, 26, \"NumUnit\"], [28, 45, \"Material\"], [46, 51, \"NumUnit\"], [51, 120, \"Target\"]]}'"
   ]
  },
  {
   "cell_type": "code",
   "execution_count": 36,
   "id": "023f20b8-2cca-4f05-9516-6169e5d2072f",
   "metadata": {},
   "outputs": [
    {
     "data": {
      "text/plain": [
       "'31 1428 <Type>dây đồng hồ</Type> <NumUnit>20mm</NumUnit> , <Material>dây thép không gỉ</Material> <NumUnit>3 mắt</NumUnit> <Target>dành cho gear active, gear sport, gear s2 classic, galaxy watch 42mm</Target>'"
      ]
     },
     "execution_count": 36,
     "metadata": {},
     "output_type": "execute_result"
    }
   ],
   "source": [
    "doccano2html(text)"
   ]
  },
  {
   "cell_type": "code",
   "execution_count": 37,
   "id": "00083818",
   "metadata": {},
   "outputs": [
    {
     "data": {
      "text/plain": [
       "'31 1428 <Type>dây đồng hồ</Type> <NumUnit>20mm</NumUnit> , <Material>dây thép không gỉ</Material> <NumUnit>3 mắt</NumUnit> <Target>dành cho gear active, gear sport, gear s2 classic, galaxy watch 42mm</Target>'"
      ]
     },
     "execution_count": 37,
     "metadata": {},
     "output_type": "execute_result"
    }
   ],
   "source": [
    "doccano2html(text)"
   ]
  },
  {
   "cell_type": "code",
   "execution_count": 38,
   "id": "40e68201",
   "metadata": {},
   "outputs": [
    {
     "data": {
      "text/plain": [
       "'31 1428 <type>dây đồng hồ</type> <numunit>20mm</numunit> <material>dây thép không gỉ</material> <numunit>3 mắt</numunit> <target>dành cho gear active gear sport gear s2 classic galaxy watch 42mm</target>'"
      ]
     },
     "execution_count": 38,
     "metadata": {},
     "output_type": "execute_result"
    }
   ],
   "source": [
    "unify_text(doccano2html(text))"
   ]
  },
  {
   "cell_type": "code",
   "execution_count": 39,
   "id": "e958c586-f3c8-4c9f-b4a9-93b82cd4ffce",
   "metadata": {},
   "outputs": [
    {
     "data": {
      "text/plain": [
       "'{\"content\": \"31 1428 dây đồng hồ 20mm dây thép không gỉ 3 mắt dành cho gear active gear sport gear s2 classic galaxy watch 42mm\", \"annotation\": [{\"label\": [\"None\", \"O\"], \"points\": [{\"start\": 0, \"end\": 1, \"text\": \"31\"}]}, {\"label\": [\"None\", \"O\"], \"points\": [{\"start\": 3, \"end\": 6, \"text\": \"1428\"}]}, {\"label\": [\"type\", \"B\"], \"points\": [{\"start\": 8, \"end\": 10, \"text\": \"dây\"}]}, {\"label\": [\"type\", \"I\"], \"points\": [{\"start\": 12, \"end\": 15, \"text\": \"đồng\"}]}, {\"label\": [\"type\", \"E\"], \"points\": [{\"start\": 17, \"end\": 18, \"text\": \"hồ\"}]}, {\"label\": [\"numunit\", \"B\"], \"points\": [{\"start\": 20, \"end\": 23, \"text\": \"20mm\"}]}, {\"label\": [\"material\", \"B\"], \"points\": [{\"start\": 25, \"end\": 27, \"text\": \"dây\"}]}, {\"label\": [\"material\", \"I\"], \"points\": [{\"start\": 29, \"end\": 32, \"text\": \"thép\"}]}, {\"label\": [\"material\", \"I\"], \"points\": [{\"start\": 34, \"end\": 38, \"text\": \"không\"}]}, {\"label\": [\"material\", \"E\"], \"points\": [{\"start\": 40, \"end\": 41, \"text\": \"gỉ\"}]}, {\"label\": [\"numunit\", \"B\"], \"points\": [{\"start\": 43, \"end\": 43, \"text\": \"3\"}]}, {\"label\": [\"numunit\", \"E\"], \"points\": [{\"start\": 45, \"end\": 47, \"text\": \"mắt\"}]}, {\"label\": [\"target\", \"B\"], \"points\": [{\"start\": 49, \"end\": 52, \"text\": \"dành\"}]}, {\"label\": [\"target\", \"I\"], \"points\": [{\"start\": 54, \"end\": 56, \"text\": \"cho\"}]}, {\"label\": [\"target\", \"I\"], \"points\": [{\"start\": 58, \"end\": 61, \"text\": \"gear\"}]}, {\"label\": [\"target\", \"I\"], \"points\": [{\"start\": 63, \"end\": 68, \"text\": \"active\"}]}, {\"label\": [\"target\", \"I\"], \"points\": [{\"start\": 70, \"end\": 73, \"text\": \"gear\"}]}, {\"label\": [\"target\", \"I\"], \"points\": [{\"start\": 75, \"end\": 79, \"text\": \"sport\"}]}, {\"label\": [\"target\", \"I\"], \"points\": [{\"start\": 81, \"end\": 84, \"text\": \"gear\"}]}, {\"label\": [\"target\", \"I\"], \"points\": [{\"start\": 86, \"end\": 87, \"text\": \"s2\"}]}, {\"label\": [\"target\", \"I\"], \"points\": [{\"start\": 89, \"end\": 95, \"text\": \"classic\"}]}, {\"label\": [\"target\", \"I\"], \"points\": [{\"start\": 97, \"end\": 102, \"text\": \"galaxy\"}]}, {\"label\": [\"target\", \"I\"], \"points\": [{\"start\": 104, \"end\": 108, \"text\": \"watch\"}]}, {\"label\": [\"target\", \"E\"], \"points\": [{\"start\": 110, \"end\": 113, \"text\": \"42mm\"}]}]}\\n'"
      ]
     },
     "execution_count": 39,
     "metadata": {},
     "output_type": "execute_result"
    }
   ],
   "source": [
    "doccano2fully(text)"
   ]
  }
 ],
 "metadata": {
  "kernelspec": {
   "display_name": "Python 3",
   "language": "python",
   "name": "python3"
  },
  "language_info": {
   "codemirror_mode": {
    "name": "ipython",
    "version": 3
   },
   "file_extension": ".py",
   "mimetype": "text/x-python",
   "name": "python",
   "nbconvert_exporter": "python",
   "pygments_lexer": "ipython3",
   "version": "3.9.1"
  }
 },
 "nbformat": 4,
 "nbformat_minor": 5
}
