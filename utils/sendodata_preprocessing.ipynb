{
 "cells": [
  {
   "cell_type": "code",
   "execution_count": 21,
   "metadata": {},
   "outputs": [],
   "source": [
    "import pandas as pd\n",
    "import json\n",
    "import os\n",
    "import re\n",
    "import text_unify\n",
    "import docano_module"
   ]
  },
  {
   "cell_type": "code",
   "execution_count": 22,
   "metadata": {},
   "outputs": [],
   "source": [
    "#list of exist labels\n",
    "list_of_labels = ['type', 'subtype', 'name', 'code', 'brand', 'origin', 'material', \n",
    "                  'color', 'gender', 'numunit', 'size', 'pattern', 'form', 'target', \n",
    "                  'flavor', 'misc', 'attach', 'author', 'status']\n",
    "\n",
    "target_labels = ['type', 'name', 'color', 'brand', 'material', 'form', 'pattern', 'numunit']\n",
    "vn_target_labels = ['sản phẩm', 'tên gọi', 'màu sắc', 'nhãn hiệu', 'chất liệu', 'hình dáng', 'họa tiết', 'kích thước']\n",
    "\n",
    "label_mapping = {'code': 'name', 'size': 'numunit', 'subtype': 'misc'}\n",
    "vnlabel_mapping = {'type': 'sản phẩm', 'name': \"tên gọi\", \"brand\": \"nhãn hiệu\", \"origin\": \"xuất xứ\",\n",
    "                  \"material\": \"chất liệu\", \"color\": \"màu sắc\", \"gender\": \"giới tính\", \n",
    "                   \"numunit\": \"kích thước\", \"pattern\" : \"họa tiết\", \"form\": \"hình dáng\",\n",
    "                  \"target\": \"đối tượng\", \"flavor\": \"mùi vị\", \"misc\": \"đặc điểm khác\", \n",
    "                   \"attach\": \"đính kèm\", \"author\": \"tác giả\", \"status\": \"trạng thái\"}"
   ]
  },
  {
   "cell_type": "code",
   "execution_count": 23,
   "metadata": {},
   "outputs": [],
   "source": [
    "def unify_text(text):\n",
    "    ntext = re.sub(r\"[\\.,\\?]+$-\", \"\", text)\n",
    "    ntext = ntext.replace(\",\", \" \").replace(\".\", \" \") \\\n",
    "        .replace(\";\", \" \").replace(\"“\", \" \") \\\n",
    "        .replace(\":\", \" \").replace(\"”\", \" \") \\\n",
    "        .replace('\"', \" \").replace(\"'\", \" \") \\\n",
    "        .replace(\"!\", \" \").replace(\"?\", \" \") \\\n",
    "        .replace(\"[\", \" \").replace(\"]\", \" \").replace(\",\", \" \")\n",
    "    \n",
    "    ntext = ' '.join(ntext.split())\n",
    "    ntext = ntext.lower()\n",
    "    ntext = text_unify.unify(ntext)\n",
    "    return ntext"
   ]
  },
  {
   "cell_type": "code",
   "execution_count": 24,
   "metadata": {},
   "outputs": [],
   "source": [
    "# old structure - not merged per catelv1:\n",
    "## fname: have cate_id_lv2\n",
    "## title: [cate_id_lv2]( )title\n",
    "# new structure - merged per catelv1\n",
    "## fname: have cate_id_lv1\n",
    "## title: [index]( )[cate_id_lv2]( )title\n",
    "def get_cate_id_from_raw_title_data(title):\n",
    "    ntitle = title.replace('[', ' ').replace(']', ' ')\n",
    "    titles = ntitle.split()\n",
    "    num1 = titles[0]\n",
    "    num2 = titles[1]\n",
    "    if num1.isnumeric() and num2.isnumeric(): \n",
    "        return int(num2)\n",
    "    return num1.isnumeric() and int(num1) or 0"
   ]
  },
  {
   "cell_type": "code",
   "execution_count": 25,
   "metadata": {},
   "outputs": [],
   "source": [
    "def get_raw_title(title):\n",
    "    ntitle = title.replace('[', ' ').replace(']', ' ')\n",
    "    titles = ntitle.split()\n",
    "    num1 = titles[0]\n",
    "    num2 = titles[1]\n",
    "    if num1.isnumeric() and num2.isnumeric(): \n",
    "        ntitle = ' '.join(titles[2:])\n",
    "    else:\n",
    "        ntitle = ' '.join(titles[1:])\n",
    "    return ntitle"
   ]
  },
  {
   "cell_type": "code",
   "execution_count": 26,
   "metadata": {},
   "outputs": [],
   "source": [
    "# labels = [[sIndex, eIndex, label], ...]\n",
    "def filter_label(labels):\n",
    "    nlabels = []\n",
    "    for sIndex, eIndex, label in labels:\n",
    "        label = unify_text(label)\n",
    "        if label in label_mapping:\n",
    "            label = label_mapping[label]\n",
    "        if label in vnlabel_mapping:\n",
    "            label = vnlabel_mapping[label]\n",
    "        if label in vn_target_labels:\n",
    "            nlabels.append([sIndex, eIndex, label])\n",
    "            \n",
    "    return nlabels"
   ]
  },
  {
   "cell_type": "code",
   "execution_count": null,
   "metadata": {},
   "outputs": [],
   "source": []
  },
  {
   "cell_type": "code",
   "execution_count": null,
   "metadata": {},
   "outputs": [],
   "source": []
  },
  {
   "cell_type": "code",
   "execution_count": null,
   "metadata": {},
   "outputs": [],
   "source": []
  },
  {
   "cell_type": "markdown",
   "metadata": {},
   "source": [
    "### Main thread"
   ]
  },
  {
   "cell_type": "code",
   "execution_count": 27,
   "metadata": {},
   "outputs": [],
   "source": [
    "raw_data = open(\"../data/raw_data.jsonl\", \"r\", encoding = 'utf-8').readlines()"
   ]
  },
  {
   "cell_type": "code",
   "execution_count": 30,
   "metadata": {},
   "outputs": [],
   "source": [
    "def json2df(raw_data, has_cate_id=True):\n",
    "    ids = []\n",
    "    cate_ids = []\n",
    "    words = []\n",
    "    labels = []\n",
    "    tags = []\n",
    "    \n",
    "    for id, line in enumerate(raw_data):\n",
    "        fully_annot = docano_module.doccano2fully(line)\n",
    "        fully_annot = json.loads(fully_annot)\n",
    "        content = fully_annot['content']\n",
    "        if content == '':\n",
    "            continue\n",
    "        \n",
    "        if has_cate_id:\n",
    "            cate_id = str(get_cate_id_from_raw_title_data(content))\n",
    "            content = get_raw_title(content)\n",
    "        else:\n",
    "            cate_id = ''\n",
    "            \n",
    "        annotations = fully_annot['annotation']\n",
    "        for annot in annotations:\n",
    "            label = annot['label']\n",
    "            text = annot['points'][0]['text']\n",
    "            if (text in content) and (text.split() != ''):\n",
    "                ids.append(id)\n",
    "                cate_ids.append(cate_id)\n",
    "                words.append(unify_text(text))\n",
    "                labels.append(label[0])\n",
    "                tags.append(label[1] + '-' + label[0])\n",
    "    \n",
    "    df = pd.DataFrame({'id': ids, 'cate_id': cate_ids, 'word': words, 'label': labels, 'tag': tags})\n",
    "    return df\n",
    "                \n"
   ]
  },
  {
   "cell_type": "code",
   "execution_count": 29,
   "metadata": {},
   "outputs": [],
   "source": [
    "df = json2df(raw_data)\n",
    "df.to_csv('../data/product_title_dataset.csv', index=False)"
   ]
  }
 ],
 "metadata": {
  "interpreter": {
   "hash": "10429ee993181f60e6e2fb8d8898bdd335e1dca66225fda34ad9c93ac779e1d1"
  },
  "kernelspec": {
   "display_name": "Python 3.9.1 ('base')",
   "language": "python",
   "name": "python3"
  },
  "language_info": {
   "codemirror_mode": {
    "name": "ipython",
    "version": 3
   },
   "file_extension": ".py",
   "mimetype": "text/x-python",
   "name": "python",
   "nbconvert_exporter": "python",
   "pygments_lexer": "ipython3",
   "version": "3.9.1"
  },
  "orig_nbformat": 4
 },
 "nbformat": 4,
 "nbformat_minor": 2
}
